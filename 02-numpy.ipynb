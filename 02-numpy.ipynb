{
 "cells": [
  {
   "metadata": {},
   "cell_type": "markdown",
   "source": [
    "# NumPy Notes\n",
    "\n",
    "- NumPy is a python library which stands for \"Numerical Python\"\n",
    "- is used for **working with arrays**."
   ],
   "id": "994f5bd43db5f8fc"
  },
  {
   "metadata": {
    "ExecuteTime": {
     "end_time": "2024-07-07T00:36:42.147724Z",
     "start_time": "2024-07-07T00:36:41.876276Z"
    }
   },
   "cell_type": "code",
   "source": [
    "# %pip install numpy\n",
    "import numpy as np\n",
    "arr = np.array([1, 2, 3, 4, 5])\n",
    "print(arr)\n",
    "print(type(arr))"
   ],
   "id": "c60597d66423ce84",
   "outputs": [
    {
     "name": "stdout",
     "output_type": "stream",
     "text": [
      "[1 2 3 4 5]\n",
      "<class 'numpy.ndarray'>\n"
     ]
    }
   ],
   "execution_count": 2
  },
  {
   "metadata": {},
   "cell_type": "markdown",
   "source": [
    "- has functions for working in domain of linear algebra, fourier transform, matrices etc.\n",
    "- python **lists** are slow, NumPy array object (ndarray) is faster and provides many functions for working with arrays.\n",
    "\n",
    "> NumPy arrays are stored at one continuous place in memory unlike lists, so processes can access and manipulate them very efficiently."
   ],
   "id": "299f1f781dc5a484"
  },
  {
   "metadata": {
    "ExecuteTime": {
     "end_time": "2024-07-06T18:19:42.414121Z",
     "start_time": "2024-07-06T18:19:42.407994Z"
    }
   },
   "cell_type": "code",
   "source": "print(np.__version__)",
   "id": "2df2fe4555faf12e",
   "outputs": [
    {
     "name": "stdout",
     "output_type": "stream",
     "text": [
      "2.0.0\n"
     ]
    }
   ],
   "execution_count": 16
  },
  {
   "metadata": {},
   "cell_type": "markdown",
   "source": "To create an ndarray, we can pass a list, tuple or any array-like object into the `array()` method, and it will be converted into an ndarray:",
   "id": "6f15fa4b159cfb27"
  },
  {
   "metadata": {
    "ExecuteTime": {
     "end_time": "2024-07-06T18:22:16.819274Z",
     "start_time": "2024-07-06T18:22:16.811307Z"
    }
   },
   "cell_type": "code",
   "source": [
    "a = np.array([1, 2, 3, 4, 5])    # list\n",
    "b = np.array((1, 2, 3))  # tuple\n",
    "# set (not recommended, order can change)\n",
    "c = np.array({1, 2, 3, 77, 8, 9})  \n",
    "print(a, type(a))\n",
    "print(b, type(b))\n",
    "print(c, type(c))"
   ],
   "id": "18f55350441e320e",
   "outputs": [
    {
     "name": "stdout",
     "output_type": "stream",
     "text": [
      "[1 2 3 4 5] <class 'numpy.ndarray'>\n",
      "[1 2 3] <class 'numpy.ndarray'>\n",
      "{1, 2, 3, 8, 9, 77} <class 'numpy.ndarray'>\n"
     ]
    }
   ],
   "execution_count": 21
  },
  {
   "metadata": {},
   "cell_type": "markdown",
   "source": [
    "## Dimensions in Arrays\n",
    "\n",
    "- A dimension in arrays is one level of array depth (nested arrays).\n",
    "- nested arrays are arrays that have arrays as their elements.\n",
    "\n",
    "### 0-D Arrays (Scalars)\n",
    "\n",
    "- It's an array with no dimensions, containing a single element"
   ],
   "id": "3be7152cd43ffed"
  },
  {
   "metadata": {
    "ExecuteTime": {
     "end_time": "2024-07-06T18:22:26.049901Z",
     "start_time": "2024-07-06T18:22:26.035115Z"
    }
   },
   "cell_type": "code",
   "source": [
    "arr = np.array(42)\n",
    "print(arr, type(arr))"
   ],
   "id": "f2f95272717d24c2",
   "outputs": [
    {
     "name": "stdout",
     "output_type": "stream",
     "text": [
      "42 <class 'numpy.ndarray'>\n"
     ]
    }
   ],
   "execution_count": 22
  },
  {
   "metadata": {},
   "cell_type": "markdown",
   "source": [
    "### 1-D Arrays\n",
    "\n",
    "- array having 0-D arrays as its elements."
   ],
   "id": "e2463a958d63b11b"
  },
  {
   "metadata": {
    "ExecuteTime": {
     "end_time": "2024-07-06T18:25:58.743447Z",
     "start_time": "2024-07-06T18:25:58.731514Z"
    }
   },
   "cell_type": "code",
   "source": [
    "arr = np.array([1, 2, 3, 4, 5])\n",
    "print(arr, type(arr))"
   ],
   "id": "399706e5d04c57ff",
   "outputs": [
    {
     "name": "stdout",
     "output_type": "stream",
     "text": [
      "[1 2 3 4 5] <class 'numpy.ndarray'>\n"
     ]
    }
   ],
   "execution_count": 23
  },
  {
   "metadata": {},
   "cell_type": "markdown",
   "source": [
    "### 2-D Arrays\n",
    "\n",
    "- array having 1-D arrays as its elements.\n",
    "- most common type of array, often used to represent matrix or 2nd order tensor.\n",
    "    - **tensor** is a generalized form of matrices and vectors that can handle higher dimensions than just 2D or 1D structures."
   ],
   "id": "aa646db5c010b0a5"
  },
  {
   "metadata": {
    "ExecuteTime": {
     "end_time": "2024-07-06T18:29:06.554590Z",
     "start_time": "2024-07-06T18:29:06.546601Z"
    }
   },
   "cell_type": "code",
   "source": [
    "arr = np.array([[1, 2, 3], [4, 5, 6]])\n",
    "print(arr, type(arr))"
   ],
   "id": "786dd66358aeb58f",
   "outputs": [
    {
     "name": "stdout",
     "output_type": "stream",
     "text": [
      "[[1 2 3]\n",
      " [4 5 6]] <class 'numpy.ndarray'>\n"
     ]
    }
   ],
   "execution_count": 25
  },
  {
   "metadata": {},
   "cell_type": "markdown",
   "source": [
    "### 3-D Arrays\n",
    "\n",
    "- array having 2-D arrays as its elements.\n",
    "- often used to represent a 3rd order tensor.\n",
    "    - **Example**: create a 3-D array with two 2-D arrays, both containing two arrays with the values 1, 2, 3 and 4, 5, 6:"
   ],
   "id": "cbb82f6b8459213f"
  },
  {
   "metadata": {
    "ExecuteTime": {
     "end_time": "2024-07-06T18:35:27.298523Z",
     "start_time": "2024-07-06T18:35:27.293365Z"
    }
   },
   "cell_type": "code",
   "source": [
    "arr = np.array([[[1, 2, 3], [4, 5, 6]], [[1, 2, 3], [4, 5, 6]]])\n",
    "print(arr, type(arr))"
   ],
   "id": "e5d7590c27a51e0c",
   "outputs": [
    {
     "name": "stdout",
     "output_type": "stream",
     "text": [
      "[[[1 2 3]\n",
      "  [4 5 6]]\n",
      "\n",
      " [[1 2 3]\n",
      "  [4 5 6]]] <class 'numpy.ndarray'>\n"
     ]
    }
   ],
   "execution_count": 30
  },
  {
   "metadata": {},
   "cell_type": "markdown",
   "source": [
    "## How to check the number of dimensions?\n",
    "\n",
    "- `ndim` attribute"
   ],
   "id": "6df800e382620569"
  },
  {
   "metadata": {
    "ExecuteTime": {
     "end_time": "2024-07-06T18:37:17.788578Z",
     "start_time": "2024-07-06T18:37:17.777994Z"
    }
   },
   "cell_type": "code",
   "source": [
    "a = np.array(42)\n",
    "b = np.array([1, 2, 3, 4, 5])\n",
    "c = np.array([[1, 2, 3], [4, 5, 6]])\n",
    "d = np.array([[[1, 2, 3], [4, 5, 6]], [[1, 2, 3], [4, 5, 6]]])\n",
    "print(a.ndim)\n",
    "print(b.ndim)\n",
    "print(c.ndim)\n",
    "print(d.ndim)"
   ],
   "id": "d7bebec09e0e126",
   "outputs": [
    {
     "name": "stdout",
     "output_type": "stream",
     "text": [
      "0\n",
      "1\n",
      "2\n",
      "3\n"
     ]
    }
   ],
   "execution_count": 31
  },
  {
   "metadata": {},
   "cell_type": "markdown",
   "source": [
    "## Higher Dimensional Arrays\n",
    "\n",
    "- using `ndmin` argument while creating an array."
   ],
   "id": "54a9d13d5c5f7959"
  },
  {
   "metadata": {
    "ExecuteTime": {
     "end_time": "2024-07-06T18:39:03.395091Z",
     "start_time": "2024-07-06T18:39:03.386714Z"
    }
   },
   "cell_type": "code",
   "source": [
    "arr = np.array([1, 2, 3, 4, 5], ndmin=5)\n",
    "print(arr)\n",
    "print('number of dimensions :', arr.ndim)"
   ],
   "id": "abe12af3b98db3e7",
   "outputs": [
    {
     "name": "stdout",
     "output_type": "stream",
     "text": [
      "[[[[[1 2 3 4 5]]]]]\n",
      "number of dimensions : 5\n"
     ]
    }
   ],
   "execution_count": 32
  },
  {
   "metadata": {},
   "cell_type": "markdown",
   "source": "# NumPy Array Indexing",
   "id": "60f56d4afa000613"
  },
  {
   "metadata": {
    "ExecuteTime": {
     "end_time": "2024-07-06T18:46:48.332246Z",
     "start_time": "2024-07-06T18:46:48.324702Z"
    }
   },
   "cell_type": "code",
   "source": [
    "arr = np.array([1, 2, 3, 4])\n",
    "print(arr[0])   # 1\n",
    "arr = np.array([[1, 2, 3, 4, 5], [6, 7, 8, 9, 10]])\n",
    "print('2nd element on 1st dim: ', arr[0, 1])    # 2\n",
    "arr = np.array([[[1, 2, 3], [4, 5, 6]], [[7, 8, 9], [10, 11, 12]]])\n",
    "print(arr[0, 1, 2]) # 6"
   ],
   "id": "30212fd82cc767f3",
   "outputs": [
    {
     "name": "stdout",
     "output_type": "stream",
     "text": [
      "1\n",
      "2nd element on 1st dim:  2\n",
      "6\n"
     ]
    }
   ],
   "execution_count": 34
  },
  {
   "metadata": {},
   "cell_type": "markdown",
   "source": [
    "- `arr[0, 1, 2]` prints the value $6$ :\n",
    "    - first number represents first dimension, which contains two arrays `[[1, 2, 3], [4, 5, 6]]` and `[[7, 8, 9], [10, 11, 12]]`. Since we selected $0$, we are left with the first array `[[1, 2, 3], [4, 5, 6]]`\n",
    "    - second number represents the second dimension, which also contains two arrays `[1, 2, 3]` and `[4, 5, 6]`. Since we selected $1$, we are left with the second array `[4, 5, 6]`\n",
    "    - third number represents the third dimension, which contains three values, `4`, `5` and `6`. Since we selected $2$, we end up with the third value: $6$\n",
    "\n",
    "### Negative Indexing"
   ],
   "id": "4e7c7551258afc52"
  },
  {
   "metadata": {
    "ExecuteTime": {
     "end_time": "2024-07-06T18:51:59.904902Z",
     "start_time": "2024-07-06T18:51:59.897962Z"
    }
   },
   "cell_type": "code",
   "source": [
    "arr = np.array([[1, 2, 3, 4, 5], [6, 7, 8, 9, 10]])\n",
    "print('Last element from 2nd dim: ', arr[1, -1])    # 10"
   ],
   "id": "17f6657e3a487b47",
   "outputs": [
    {
     "name": "stdout",
     "output_type": "stream",
     "text": [
      "Last element from 2nd dim:  10\n"
     ]
    }
   ],
   "execution_count": 35
  },
  {
   "metadata": {},
   "cell_type": "markdown",
   "source": [
    "# NumPy Array Slicing\n",
    "\n",
    "- **slicing** allows extracting subsequence from a sequence.\n",
    "- `[start:end:step]` where `start` is inclusive, `end` is exclusive.\n",
    "- default values are `start=0`, `end=len(array)`, `step=1`"
   ],
   "id": "73570cbd561fdde2"
  },
  {
   "metadata": {
    "ExecuteTime": {
     "end_time": "2024-07-07T00:38:25.324436Z",
     "start_time": "2024-07-07T00:38:25.315463Z"
    }
   },
   "cell_type": "code",
   "source": [
    "arr = np.array([1, 2, 3, 4, 5, 6, 7])\n",
    "print(arr[1:5])     # [2 3 4 5]\n",
    "print(arr[4:])      # [5 6 7]\n",
    "print(arr[-3:-1])   # [5 6]\n",
    "print(arr[-2:-7:-2])    # [6 4 2]"
   ],
   "id": "8ef7fb45e0874b59",
   "outputs": [
    {
     "name": "stdout",
     "output_type": "stream",
     "text": [
      "[2 3 4 5]\n",
      "[5 6 7]\n",
      "[5 6]\n",
      "[6 4 2]\n"
     ]
    }
   ],
   "execution_count": 8
  },
  {
   "metadata": {},
   "cell_type": "markdown",
   "source": [
    "# NumPy Data Types\n",
    "\n",
    "### Data Types in Python\n",
    "\n",
    "- `str`, `int`, `float`, `complex`, `bool` etc\n",
    "- `type()` function to know the data type of any object.\n",
    "\n",
    "## NumPy Data Types\n",
    "\n",
    "- `i` - integer\n",
    "- `b` - boolean\n",
    "- `u` - unsigned integer\n",
    "- `f` - float\n",
    "- `c` - complex float\n",
    "- `m` - timedelta\n",
    "- `M` - datetime\n",
    "- `O` - object\n",
    "- `S` - string\n",
    "- `U` - unicode string\n",
    "- `V` - fixed chunk of memory for other type ( void )\n",
    "\n",
    "> `dtype` attribute is used to check the data type of an array's elements."
   ],
   "id": "1bca3f8ade69ea75"
  },
  {
   "metadata": {
    "ExecuteTime": {
     "end_time": "2024-07-07T01:10:10.253167Z",
     "start_time": "2024-07-07T01:10:10.246055Z"
    }
   },
   "cell_type": "code",
   "source": [
    "a = np.array([1, 2, 3, 4])\n",
    "b = np.array([\"alok\", \"shandilya\", 1])  # here, 1 is converted to string\n",
    "print(a.dtype)\n",
    "print(b.dtype)\n",
    "print(type(b[2]))\n",
    "print(b[2] + \"1\")"
   ],
   "id": "b773f5f5b09a4e3e",
   "outputs": [
    {
     "name": "stdout",
     "output_type": "stream",
     "text": [
      "int64\n",
      "<U21\n",
      "<class 'numpy.str_'>\n",
      "11\n"
     ]
    }
   ],
   "execution_count": 28
  },
  {
   "metadata": {},
   "cell_type": "markdown",
   "source": [
    "### Creating Arrays with a Defined Data Type\n",
    "\n",
    "- optional `dtype` argument"
   ],
   "id": "2ac163cfb53da48f"
  },
  {
   "metadata": {
    "ExecuteTime": {
     "end_time": "2024-07-07T01:11:13.582900Z",
     "start_time": "2024-07-07T01:11:13.577068Z"
    }
   },
   "cell_type": "code",
   "source": [
    "arr = np.array([1, 2, 3, 4], dtype='S')\n",
    "print(arr)\n",
    "print(arr.dtype)"
   ],
   "id": "422ab8a356285bc4",
   "outputs": [
    {
     "name": "stdout",
     "output_type": "stream",
     "text": [
      "[b'1' b'2' b'3' b'4']\n",
      "|S1\n"
     ]
    }
   ],
   "execution_count": 30
  },
  {
   "metadata": {},
   "cell_type": "markdown",
   "source": [
    "- for `i`, `u`, `f`, `S` and `U` we can define size as well.\n",
    "- `astype()` method to convert data type of an existing array."
   ],
   "id": "30cc031344c9b759"
  },
  {
   "metadata": {
    "ExecuteTime": {
     "end_time": "2024-07-07T01:22:14.076619Z",
     "start_time": "2024-07-07T01:22:14.050934Z"
    }
   },
   "cell_type": "code",
   "source": [
    "a = np.array([1, 2, 3, 4])\n",
    "b = np.array([1, 2, 3, 4], dtype='i4')  # 4 bytes integer (32 bits)\n",
    "print(a, type(a))\n",
    "print(a.dtype)\n",
    "print(b, type(b))\n",
    "print(b.dtype)\n",
    "\n",
    "arr = np.array([1, 2, 3], dtype=\"f\")\n",
    "print(arr)\n",
    "\n",
    "arr = np.array([1.1, 2.1, 3.9])\n",
    "newarr = arr.astype(\"i\")    # astype(\"i\") converts to 32-bit integer\n",
    "print(newarr)\n",
    "print(newarr.dtype)\n",
    "\n",
    "newarr = arr.astype(\"int64\")\n",
    "print(newarr)\n",
    "print(newarr.dtype)"
   ],
   "id": "35d294ed026f9768",
   "outputs": [
    {
     "name": "stdout",
     "output_type": "stream",
     "text": [
      "[1 2 3 4] <class 'numpy.ndarray'>\n",
      "int64\n",
      "[1 2 3 4] <class 'numpy.ndarray'>\n",
      "int32\n",
      "[1. 2. 3.]\n",
      "[1 2 3]\n",
      "int32\n",
      "[1 2 3]\n",
      "int64\n"
     ]
    }
   ],
   "execution_count": 50
  },
  {
   "metadata": {
    "ExecuteTime": {
     "end_time": "2024-07-07T01:17:17.635131Z",
     "start_time": "2024-07-07T01:17:17.605089Z"
    }
   },
   "cell_type": "code",
   "source": [
    "# will raise ValueError as string cannot be converted to int\n",
    "arr = np.array([\"alok\", \"shandilya\", 7], dtype=\"i\")"
   ],
   "id": "4f8d0da195a04e9e",
   "outputs": [
    {
     "ename": "ValueError",
     "evalue": "invalid literal for int() with base 10: 'alok'",
     "output_type": "error",
     "traceback": [
      "\u001B[0;31m---------------------------------------------------------------------------\u001B[0m",
      "\u001B[0;31mValueError\u001B[0m                                Traceback (most recent call last)",
      "Cell \u001B[0;32mIn[43], line 2\u001B[0m\n\u001B[1;32m      1\u001B[0m \u001B[38;5;66;03m# will raise ValueError as string cannot be converted to int\u001B[39;00m\n\u001B[0;32m----> 2\u001B[0m arr \u001B[38;5;241m=\u001B[39m \u001B[43mnp\u001B[49m\u001B[38;5;241;43m.\u001B[39;49m\u001B[43marray\u001B[49m\u001B[43m(\u001B[49m\u001B[43m[\u001B[49m\u001B[38;5;124;43m\"\u001B[39;49m\u001B[38;5;124;43malok\u001B[39;49m\u001B[38;5;124;43m\"\u001B[39;49m\u001B[43m,\u001B[49m\u001B[43m \u001B[49m\u001B[38;5;124;43m\"\u001B[39;49m\u001B[38;5;124;43mshandilya\u001B[39;49m\u001B[38;5;124;43m\"\u001B[39;49m\u001B[43m,\u001B[49m\u001B[43m \u001B[49m\u001B[38;5;241;43m7\u001B[39;49m\u001B[43m]\u001B[49m\u001B[43m,\u001B[49m\u001B[43m \u001B[49m\u001B[43mdtype\u001B[49m\u001B[38;5;241;43m=\u001B[39;49m\u001B[38;5;124;43m\"\u001B[39;49m\u001B[38;5;124;43mi\u001B[39;49m\u001B[38;5;124;43m\"\u001B[39;49m\u001B[43m)\u001B[49m\n",
      "\u001B[0;31mValueError\u001B[0m: invalid literal for int() with base 10: 'alok'"
     ]
    }
   ],
   "execution_count": 43
  },
  {
   "metadata": {
    "ExecuteTime": {
     "end_time": "2024-07-07T01:23:14.595941Z",
     "start_time": "2024-07-07T01:23:14.590408Z"
    }
   },
   "cell_type": "code",
   "source": [
    "arr = np.array([1, 0, 3, 7.7])\n",
    "newarr = arr.astype(bool)\n",
    "\n",
    "print(newarr)\n",
    "print(newarr.dtype)"
   ],
   "id": "dc2788beb7e2347",
   "outputs": [
    {
     "name": "stdout",
     "output_type": "stream",
     "text": [
      "[ True False  True  True]\n",
      "bool\n"
     ]
    }
   ],
   "execution_count": 52
  },
  {
   "metadata": {},
   "cell_type": "markdown",
   "source": [
    "# NumPy array `Copy` vs `View`\n",
    "\n",
    "- [link](https://www.w3schools.com/python/numpy/numpy_copy_vs_view.asp)"
   ],
   "id": "9ee981400cb5ba96"
  }
 ],
 "metadata": {
  "kernelspec": {
   "display_name": "Python 3",
   "language": "python",
   "name": "python3"
  },
  "language_info": {
   "codemirror_mode": {
    "name": "ipython",
    "version": 2
   },
   "file_extension": ".py",
   "mimetype": "text/x-python",
   "name": "python",
   "nbconvert_exporter": "python",
   "pygments_lexer": "ipython2",
   "version": "2.7.6"
  }
 },
 "nbformat": 4,
 "nbformat_minor": 5
}
