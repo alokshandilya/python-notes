{
 "cells": [
  {
   "metadata": {},
   "cell_type": "markdown",
   "source": [
    "# NumPy Notes\n",
    "\n",
    "- NumPy is a python library which stands for \"Numerical Python\"\n",
    "- is used for **working with arrays**."
   ],
   "id": "994f5bd43db5f8fc"
  },
  {
   "metadata": {
    "ExecuteTime": {
     "end_time": "2024-07-06T18:07:09.602775Z",
     "start_time": "2024-07-06T18:07:09.594936Z"
    }
   },
   "cell_type": "code",
   "source": [
    "# %pip install numpy\n",
    "import numpy as np\n",
    "arr = np.array([1, 2, 3, 4, 5])\n",
    "print(arr)\n",
    "print(type(arr))"
   ],
   "id": "c60597d66423ce84",
   "outputs": [
    {
     "name": "stdout",
     "output_type": "stream",
     "text": [
      "[1 2 3 4 5]\n",
      "<class 'numpy.ndarray'>\n"
     ]
    }
   ],
   "execution_count": 3
  },
  {
   "metadata": {},
   "cell_type": "markdown",
   "source": [
    "- has functions for working in domain of linear algebra, fourier transform, matrices etc.\n",
    "- python **lists** are slow, NumPy array object (ndarray) is faster and provides many functions for working with arrays.\n",
    "\n",
    "> NumPy arrays are stored at one continuous place in memory unlike lists, so processes can access and manipulate them very efficiently."
   ],
   "id": "299f1f781dc5a484"
  },
  {
   "metadata": {
    "ExecuteTime": {
     "end_time": "2024-07-06T18:19:42.414121Z",
     "start_time": "2024-07-06T18:19:42.407994Z"
    }
   },
   "cell_type": "code",
   "source": "print(np.__version__)",
   "id": "2df2fe4555faf12e",
   "outputs": [
    {
     "name": "stdout",
     "output_type": "stream",
     "text": [
      "2.0.0\n"
     ]
    }
   ],
   "execution_count": 16
  },
  {
   "metadata": {},
   "cell_type": "markdown",
   "source": "To create an ndarray, we can pass a list, tuple or any array-like object into the `array()` method, and it will be converted into an ndarray:",
   "id": "6f15fa4b159cfb27"
  },
  {
   "metadata": {
    "ExecuteTime": {
     "end_time": "2024-07-06T18:22:16.819274Z",
     "start_time": "2024-07-06T18:22:16.811307Z"
    }
   },
   "cell_type": "code",
   "source": [
    "a = np.array([1, 2, 3, 4, 5])    # list\n",
    "b = np.array((1, 2, 3))  # tuple\n",
    "# set (not recommended, order can change)\n",
    "c = np.array({1, 2, 3, 77, 8, 9})  \n",
    "print(a, type(a))\n",
    "print(b, type(b))\n",
    "print(c, type(c))"
   ],
   "id": "18f55350441e320e",
   "outputs": [
    {
     "name": "stdout",
     "output_type": "stream",
     "text": [
      "[1 2 3 4 5] <class 'numpy.ndarray'>\n",
      "[1 2 3] <class 'numpy.ndarray'>\n",
      "{1, 2, 3, 8, 9, 77} <class 'numpy.ndarray'>\n"
     ]
    }
   ],
   "execution_count": 21
  },
  {
   "metadata": {},
   "cell_type": "markdown",
   "source": [
    "## Dimensions in Arrays\n",
    "\n",
    "- A dimension in arrays is one level of array depth (nested arrays).\n",
    "- nested arrays are arrays that have arrays as their elements.\n",
    "\n",
    "### 0-D Arrays (Scalars)\n",
    "\n",
    "- It's an array with no dimensions, containing a single element"
   ],
   "id": "3be7152cd43ffed"
  },
  {
   "metadata": {
    "ExecuteTime": {
     "end_time": "2024-07-06T18:22:26.049901Z",
     "start_time": "2024-07-06T18:22:26.035115Z"
    }
   },
   "cell_type": "code",
   "source": [
    "arr = np.array(42)\n",
    "print(arr, type(arr))"
   ],
   "id": "f2f95272717d24c2",
   "outputs": [
    {
     "name": "stdout",
     "output_type": "stream",
     "text": [
      "42 <class 'numpy.ndarray'>\n"
     ]
    }
   ],
   "execution_count": 22
  },
  {
   "metadata": {},
   "cell_type": "markdown",
   "source": [
    "### 1-D Arrays\n",
    "\n",
    "- array having 0-D arrays as its elements."
   ],
   "id": "e2463a958d63b11b"
  },
  {
   "metadata": {
    "ExecuteTime": {
     "end_time": "2024-07-06T18:25:58.743447Z",
     "start_time": "2024-07-06T18:25:58.731514Z"
    }
   },
   "cell_type": "code",
   "source": [
    "arr = np.array([1, 2, 3, 4, 5])\n",
    "print(arr, type(arr))"
   ],
   "id": "399706e5d04c57ff",
   "outputs": [
    {
     "name": "stdout",
     "output_type": "stream",
     "text": [
      "[1 2 3 4 5] <class 'numpy.ndarray'>\n"
     ]
    }
   ],
   "execution_count": 23
  },
  {
   "metadata": {},
   "cell_type": "markdown",
   "source": [
    "### 2-D Arrays\n",
    "\n",
    "- array having 1-D arrays as its elements.\n",
    "- most common type of array, often used to represent matrix or 2nd order tensor.\n",
    "    - **tensor** is a generalized form of matrices and vectors that can handle higher dimensions than just 2D or 1D structures."
   ],
   "id": "aa646db5c010b0a5"
  },
  {
   "metadata": {
    "ExecuteTime": {
     "end_time": "2024-07-06T18:29:06.554590Z",
     "start_time": "2024-07-06T18:29:06.546601Z"
    }
   },
   "cell_type": "code",
   "source": [
    "arr = np.array([[1, 2, 3], [4, 5, 6]])\n",
    "print(arr, type(arr))"
   ],
   "id": "786dd66358aeb58f",
   "outputs": [
    {
     "name": "stdout",
     "output_type": "stream",
     "text": [
      "[[1 2 3]\n",
      " [4 5 6]] <class 'numpy.ndarray'>\n"
     ]
    }
   ],
   "execution_count": 25
  },
  {
   "metadata": {},
   "cell_type": "markdown",
   "source": [
    "### 3-D Arrays\n",
    "\n",
    "- array having 2-D arrays as its elements.\n",
    "- often used to represent a 3rd order tensor.\n",
    "    - **Example**: create a 3-D array with two 2-D arrays, both containing two arrays with the values 1, 2, 3 and 4, 5, 6:"
   ],
   "id": "cbb82f6b8459213f"
  },
  {
   "metadata": {
    "ExecuteTime": {
     "end_time": "2024-07-06T18:35:27.298523Z",
     "start_time": "2024-07-06T18:35:27.293365Z"
    }
   },
   "cell_type": "code",
   "source": [
    "arr = np.array([[[1, 2, 3], [4, 5, 6]], [[1, 2, 3], [4, 5, 6]]])\n",
    "print(arr, type(arr))"
   ],
   "id": "e5d7590c27a51e0c",
   "outputs": [
    {
     "name": "stdout",
     "output_type": "stream",
     "text": [
      "[[[1 2 3]\n",
      "  [4 5 6]]\n",
      "\n",
      " [[1 2 3]\n",
      "  [4 5 6]]] <class 'numpy.ndarray'>\n"
     ]
    }
   ],
   "execution_count": 30
  },
  {
   "metadata": {},
   "cell_type": "markdown",
   "source": [
    "## How to check the number of dimensions?\n",
    "\n",
    "- `ndim` attribute"
   ],
   "id": "6df800e382620569"
  },
  {
   "metadata": {
    "ExecuteTime": {
     "end_time": "2024-07-06T18:37:17.788578Z",
     "start_time": "2024-07-06T18:37:17.777994Z"
    }
   },
   "cell_type": "code",
   "source": [
    "a = np.array(42)\n",
    "b = np.array([1, 2, 3, 4, 5])\n",
    "c = np.array([[1, 2, 3], [4, 5, 6]])\n",
    "d = np.array([[[1, 2, 3], [4, 5, 6]], [[1, 2, 3], [4, 5, 6]]])\n",
    "print(a.ndim)\n",
    "print(b.ndim)\n",
    "print(c.ndim)\n",
    "print(d.ndim)"
   ],
   "id": "d7bebec09e0e126",
   "outputs": [
    {
     "name": "stdout",
     "output_type": "stream",
     "text": [
      "0\n",
      "1\n",
      "2\n",
      "3\n"
     ]
    }
   ],
   "execution_count": 31
  },
  {
   "metadata": {},
   "cell_type": "markdown",
   "source": [
    "## Higher Dimensional Arrays\n",
    "\n",
    "- using `ndmin` argument while creating an array."
   ],
   "id": "54a9d13d5c5f7959"
  },
  {
   "metadata": {
    "ExecuteTime": {
     "end_time": "2024-07-06T18:39:03.395091Z",
     "start_time": "2024-07-06T18:39:03.386714Z"
    }
   },
   "cell_type": "code",
   "source": [
    "arr = np.array([1, 2, 3, 4, 5], ndmin=5)\n",
    "print(arr)\n",
    "print('number of dimensions :', arr.ndim)"
   ],
   "id": "abe12af3b98db3e7",
   "outputs": [
    {
     "name": "stdout",
     "output_type": "stream",
     "text": [
      "[[[[[1 2 3 4 5]]]]]\n",
      "number of dimensions : 5\n"
     ]
    }
   ],
   "execution_count": 32
  },
  {
   "metadata": {},
   "cell_type": "markdown",
   "source": "# NumPy Array Indexing",
   "id": "60f56d4afa000613"
  },
  {
   "metadata": {
    "ExecuteTime": {
     "end_time": "2024-07-06T18:46:48.332246Z",
     "start_time": "2024-07-06T18:46:48.324702Z"
    }
   },
   "cell_type": "code",
   "source": [
    "arr = np.array([1, 2, 3, 4])\n",
    "print(arr[0])   # 1\n",
    "arr = np.array([[1, 2, 3, 4, 5], [6, 7, 8, 9, 10]])\n",
    "print('2nd element on 1st dim: ', arr[0, 1])    # 2\n",
    "arr = np.array([[[1, 2, 3], [4, 5, 6]], [[7, 8, 9], [10, 11, 12]]])\n",
    "print(arr[0, 1, 2]) # 6"
   ],
   "id": "30212fd82cc767f3",
   "outputs": [
    {
     "name": "stdout",
     "output_type": "stream",
     "text": [
      "1\n",
      "2nd element on 1st dim:  2\n",
      "6\n"
     ]
    }
   ],
   "execution_count": 34
  },
  {
   "metadata": {},
   "cell_type": "markdown",
   "source": [
    "- `arr[0, 1, 2]` prints the value $6$ :\n",
    "    - first number represents first dimension, which contains two arrays `[[1, 2, 3], [4, 5, 6]]` and `[[7, 8, 9], [10, 11, 12]]`. Since we selected $0$, we are left with the first array `[[1, 2, 3], [4, 5, 6]]`\n",
    "    - second number represents the second dimension, which also contains two arrays `[1, 2, 3]` and `[4, 5, 6]`. Since we selected $1$, we are left with the second array `[4, 5, 6]`\n",
    "    - third number represents the third dimension, which contains three values, `4`, `5` and `6`. Since we selected $2$, we end up with the third value: $6$\n",
    "\n",
    "### Negative Indexing"
   ],
   "id": "4e7c7551258afc52"
  },
  {
   "metadata": {
    "ExecuteTime": {
     "end_time": "2024-07-06T18:51:59.904902Z",
     "start_time": "2024-07-06T18:51:59.897962Z"
    }
   },
   "cell_type": "code",
   "source": [
    "arr = np.array([[1, 2, 3, 4, 5], [6, 7, 8, 9, 10]])\n",
    "print('Last element from 2nd dim: ', arr[1, -1])    # 10"
   ],
   "id": "17f6657e3a487b47",
   "outputs": [
    {
     "name": "stdout",
     "output_type": "stream",
     "text": [
      "Last element from 2nd dim:  10\n"
     ]
    }
   ],
   "execution_count": 35
  },
  {
   "metadata": {},
   "cell_type": "markdown",
   "source": [
    "# NumPy Array Slicing\n",
    "\n",
    "[link](https://www.w3schools.com/python/numpy/numpy_array_slicing.asp)"
   ],
   "id": "73570cbd561fdde2"
  }
 ],
 "metadata": {
  "kernelspec": {
   "display_name": "Python 3",
   "language": "python",
   "name": "python3"
  },
  "language_info": {
   "codemirror_mode": {
    "name": "ipython",
    "version": 2
   },
   "file_extension": ".py",
   "mimetype": "text/x-python",
   "name": "python",
   "nbconvert_exporter": "python",
   "pygments_lexer": "ipython2",
   "version": "2.7.6"
  }
 },
 "nbformat": 4,
 "nbformat_minor": 5
}
