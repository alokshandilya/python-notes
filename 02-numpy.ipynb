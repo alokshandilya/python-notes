{
 "cells": [
  {
   "cell_type": "markdown",
   "id": "994f5bd43db5f8fc",
   "metadata": {},
   "source": [
    "# NumPy Notes\n",
    "\n",
    "- NumPy is a python library which stands for \"Numerical Python\"\n",
    "- is used for **working with arrays**."
   ]
  },
  {
   "cell_type": "code",
   "execution_count": 2,
   "id": "c60597d66423ce84",
   "metadata": {
    "ExecuteTime": {
     "end_time": "2024-07-07T00:36:42.147724Z",
     "start_time": "2024-07-07T00:36:41.876276Z"
    }
   },
   "outputs": [
    {
     "name": "stdout",
     "output_type": "stream",
     "text": [
      "[1 2 3 4 5]\n",
      "<class 'numpy.ndarray'>\n"
     ]
    }
   ],
   "source": [
    "# %pip install numpy\n",
    "import numpy as np\n",
    "arr = np.array([1, 2, 3, 4, 5])\n",
    "print(arr)\n",
    "print(type(arr))"
   ]
  },
  {
   "cell_type": "markdown",
   "id": "299f1f781dc5a484",
   "metadata": {},
   "source": [
    "- has functions for working in domain of linear algebra, fourier transform, matrices etc.\n",
    "- python **lists** are slow, NumPy array object (ndarray) is faster and provides many functions for working with arrays.\n",
    "\n",
    "> NumPy arrays are stored at one continuous place in memory unlike lists, so processes can access and manipulate them very efficiently."
   ]
  },
  {
   "cell_type": "code",
   "execution_count": 16,
   "id": "2df2fe4555faf12e",
   "metadata": {
    "ExecuteTime": {
     "end_time": "2024-07-06T18:19:42.414121Z",
     "start_time": "2024-07-06T18:19:42.407994Z"
    }
   },
   "outputs": [
    {
     "name": "stdout",
     "output_type": "stream",
     "text": [
      "2.0.0\n"
     ]
    }
   ],
   "source": [
    "print(np.__version__)"
   ]
  },
  {
   "cell_type": "markdown",
   "id": "6f15fa4b159cfb27",
   "metadata": {},
   "source": [
    "To create an ndarray, we can pass a list, tuple or any array-like object into the `array()` method, and it will be converted into an ndarray:"
   ]
  },
  {
   "cell_type": "code",
   "execution_count": 21,
   "id": "18f55350441e320e",
   "metadata": {
    "ExecuteTime": {
     "end_time": "2024-07-06T18:22:16.819274Z",
     "start_time": "2024-07-06T18:22:16.811307Z"
    }
   },
   "outputs": [
    {
     "name": "stdout",
     "output_type": "stream",
     "text": [
      "[1 2 3 4 5] <class 'numpy.ndarray'>\n",
      "[1 2 3] <class 'numpy.ndarray'>\n",
      "{1, 2, 3, 8, 9, 77} <class 'numpy.ndarray'>\n"
     ]
    }
   ],
   "source": [
    "a = np.array([1, 2, 3, 4, 5])    # list\n",
    "b = np.array((1, 2, 3))  # tuple\n",
    "# set (not recommended, order can change)\n",
    "c = np.array({1, 2, 3, 77, 8, 9})  \n",
    "print(a, type(a))\n",
    "print(b, type(b))\n",
    "print(c, type(c))"
   ]
  },
  {
   "cell_type": "markdown",
   "id": "3be7152cd43ffed",
   "metadata": {},
   "source": [
    "## Dimensions in Arrays\n",
    "\n",
    "- A dimension in arrays is one level of array depth (nested arrays).\n",
    "- nested arrays are arrays that have arrays as their elements.\n",
    "\n",
    "### 0-D Arrays (Scalars)\n",
    "\n",
    "- It's an array with no dimensions, containing a single element"
   ]
  },
  {
   "cell_type": "code",
   "execution_count": 22,
   "id": "f2f95272717d24c2",
   "metadata": {
    "ExecuteTime": {
     "end_time": "2024-07-06T18:22:26.049901Z",
     "start_time": "2024-07-06T18:22:26.035115Z"
    }
   },
   "outputs": [
    {
     "name": "stdout",
     "output_type": "stream",
     "text": [
      "42 <class 'numpy.ndarray'>\n"
     ]
    }
   ],
   "source": [
    "arr = np.array(42)\n",
    "print(arr, type(arr))"
   ]
  },
  {
   "cell_type": "markdown",
   "id": "e2463a958d63b11b",
   "metadata": {},
   "source": [
    "### 1-D Arrays\n",
    "\n",
    "- array having 0-D arrays as its elements."
   ]
  },
  {
   "cell_type": "code",
   "execution_count": 23,
   "id": "399706e5d04c57ff",
   "metadata": {
    "ExecuteTime": {
     "end_time": "2024-07-06T18:25:58.743447Z",
     "start_time": "2024-07-06T18:25:58.731514Z"
    }
   },
   "outputs": [
    {
     "name": "stdout",
     "output_type": "stream",
     "text": [
      "[1 2 3 4 5] <class 'numpy.ndarray'>\n"
     ]
    }
   ],
   "source": [
    "arr = np.array([1, 2, 3, 4, 5])\n",
    "print(arr, type(arr))"
   ]
  },
  {
   "cell_type": "markdown",
   "id": "aa646db5c010b0a5",
   "metadata": {},
   "source": [
    "### 2-D Arrays\n",
    "\n",
    "- array having 1-D arrays as its elements.\n",
    "- most common type of array, often used to represent matrix or 2nd order tensor.\n",
    "    - **tensor** is a generalized form of matrices and vectors that can handle higher dimensions than just 2D or 1D structures."
   ]
  },
  {
   "cell_type": "code",
   "execution_count": 25,
   "id": "786dd66358aeb58f",
   "metadata": {
    "ExecuteTime": {
     "end_time": "2024-07-06T18:29:06.554590Z",
     "start_time": "2024-07-06T18:29:06.546601Z"
    }
   },
   "outputs": [
    {
     "name": "stdout",
     "output_type": "stream",
     "text": [
      "[[1 2 3]\n",
      " [4 5 6]] <class 'numpy.ndarray'>\n"
     ]
    }
   ],
   "source": [
    "arr = np.array([[1, 2, 3], [4, 5, 6]])\n",
    "print(arr, type(arr))"
   ]
  },
  {
   "cell_type": "markdown",
   "id": "cbb82f6b8459213f",
   "metadata": {},
   "source": [
    "### 3-D Arrays\n",
    "\n",
    "- array having 2-D arrays as its elements.\n",
    "- often used to represent a 3rd order tensor.\n",
    "    - **Example**: create a 3-D array with two 2-D arrays, both containing two arrays with the values 1, 2, 3 and 4, 5, 6:"
   ]
  },
  {
   "cell_type": "code",
   "execution_count": 30,
   "id": "e5d7590c27a51e0c",
   "metadata": {
    "ExecuteTime": {
     "end_time": "2024-07-06T18:35:27.298523Z",
     "start_time": "2024-07-06T18:35:27.293365Z"
    }
   },
   "outputs": [
    {
     "name": "stdout",
     "output_type": "stream",
     "text": [
      "[[[1 2 3]\n",
      "  [4 5 6]]\n",
      "\n",
      " [[1 2 3]\n",
      "  [4 5 6]]] <class 'numpy.ndarray'>\n"
     ]
    }
   ],
   "source": [
    "arr = np.array([[[1, 2, 3], [4, 5, 6]], [[1, 2, 3], [4, 5, 6]]])\n",
    "print(arr, type(arr))"
   ]
  },
  {
   "cell_type": "markdown",
   "id": "6df800e382620569",
   "metadata": {},
   "source": [
    "## How to check the number of dimensions?\n",
    "\n",
    "- `ndim` attribute"
   ]
  },
  {
   "cell_type": "code",
   "execution_count": 31,
   "id": "d7bebec09e0e126",
   "metadata": {
    "ExecuteTime": {
     "end_time": "2024-07-06T18:37:17.788578Z",
     "start_time": "2024-07-06T18:37:17.777994Z"
    }
   },
   "outputs": [
    {
     "name": "stdout",
     "output_type": "stream",
     "text": [
      "0\n",
      "1\n",
      "2\n",
      "3\n"
     ]
    }
   ],
   "source": [
    "a = np.array(42)\n",
    "b = np.array([1, 2, 3, 4, 5])\n",
    "c = np.array([[1, 2, 3], [4, 5, 6]])\n",
    "d = np.array([[[1, 2, 3], [4, 5, 6]], [[1, 2, 3], [4, 5, 6]]])\n",
    "print(a.ndim)\n",
    "print(b.ndim)\n",
    "print(c.ndim)\n",
    "print(d.ndim)"
   ]
  },
  {
   "cell_type": "markdown",
   "id": "54a9d13d5c5f7959",
   "metadata": {},
   "source": [
    "## Higher Dimensional Arrays\n",
    "\n",
    "- using `ndmin` argument while creating an array."
   ]
  },
  {
   "cell_type": "code",
   "execution_count": 32,
   "id": "abe12af3b98db3e7",
   "metadata": {
    "ExecuteTime": {
     "end_time": "2024-07-06T18:39:03.395091Z",
     "start_time": "2024-07-06T18:39:03.386714Z"
    }
   },
   "outputs": [
    {
     "name": "stdout",
     "output_type": "stream",
     "text": [
      "[[[[[1 2 3 4 5]]]]]\n",
      "number of dimensions : 5\n"
     ]
    }
   ],
   "source": [
    "arr = np.array([1, 2, 3, 4, 5], ndmin=5)\n",
    "print(arr)\n",
    "print('number of dimensions :', arr.ndim)"
   ]
  },
  {
   "cell_type": "markdown",
   "id": "60f56d4afa000613",
   "metadata": {},
   "source": [
    "# NumPy Array Indexing"
   ]
  },
  {
   "cell_type": "code",
   "execution_count": 34,
   "id": "30212fd82cc767f3",
   "metadata": {
    "ExecuteTime": {
     "end_time": "2024-07-06T18:46:48.332246Z",
     "start_time": "2024-07-06T18:46:48.324702Z"
    }
   },
   "outputs": [
    {
     "name": "stdout",
     "output_type": "stream",
     "text": [
      "1\n",
      "2nd element on 1st dim:  2\n",
      "6\n"
     ]
    }
   ],
   "source": [
    "arr = np.array([1, 2, 3, 4])\n",
    "print(arr[0])   # 1\n",
    "arr = np.array([[1, 2, 3, 4, 5], [6, 7, 8, 9, 10]])\n",
    "print('2nd element on 1st dim: ', arr[0, 1])    # 2\n",
    "arr = np.array([[[1, 2, 3], [4, 5, 6]], [[7, 8, 9], [10, 11, 12]]])\n",
    "print(arr[0, 1, 2]) # 6"
   ]
  },
  {
   "cell_type": "markdown",
   "id": "4e7c7551258afc52",
   "metadata": {},
   "source": [
    "- `arr[0, 1, 2]` prints the value $6$ :\n",
    "    - first number represents first dimension, which contains two arrays `[[1, 2, 3], [4, 5, 6]]` and `[[7, 8, 9], [10, 11, 12]]`. Since we selected $0$, we are left with the first array `[[1, 2, 3], [4, 5, 6]]`\n",
    "    - second number represents the second dimension, which also contains two arrays `[1, 2, 3]` and `[4, 5, 6]`. Since we selected $1$, we are left with the second array `[4, 5, 6]`\n",
    "    - third number represents the third dimension, which contains three values, `4`, `5` and `6`. Since we selected $2$, we end up with the third value: $6$\n",
    "\n",
    "### Negative Indexing"
   ]
  },
  {
   "cell_type": "code",
   "execution_count": 35,
   "id": "17f6657e3a487b47",
   "metadata": {
    "ExecuteTime": {
     "end_time": "2024-07-06T18:51:59.904902Z",
     "start_time": "2024-07-06T18:51:59.897962Z"
    }
   },
   "outputs": [
    {
     "name": "stdout",
     "output_type": "stream",
     "text": [
      "Last element from 2nd dim:  10\n"
     ]
    }
   ],
   "source": [
    "arr = np.array([[1, 2, 3, 4, 5], [6, 7, 8, 9, 10]])\n",
    "print('Last element from 2nd dim: ', arr[1, -1])    # 10"
   ]
  },
  {
   "cell_type": "markdown",
   "id": "73570cbd561fdde2",
   "metadata": {},
   "source": [
    "# NumPy Array Slicing\n",
    "\n",
    "- **slicing** allows extracting subsequence from a sequence.\n",
    "- `[start:end:step]` where `start` is inclusive, `end` is exclusive.\n",
    "- default values are `start=0`, `end=len(array)`, `step=1`"
   ]
  },
  {
   "cell_type": "code",
   "execution_count": 8,
   "id": "8ef7fb45e0874b59",
   "metadata": {
    "ExecuteTime": {
     "end_time": "2024-07-07T00:38:25.324436Z",
     "start_time": "2024-07-07T00:38:25.315463Z"
    }
   },
   "outputs": [
    {
     "name": "stdout",
     "output_type": "stream",
     "text": [
      "[2 3 4 5]\n",
      "[5 6 7]\n",
      "[5 6]\n",
      "[6 4 2]\n"
     ]
    }
   ],
   "source": [
    "arr = np.array([1, 2, 3, 4, 5, 6, 7])\n",
    "print(arr[1:5])     # [2 3 4 5]\n",
    "print(arr[4:])      # [5 6 7]\n",
    "print(arr[-3:-1])   # [5 6]\n",
    "print(arr[-2:-7:-2])    # [6 4 2]"
   ]
  },
  {
   "cell_type": "markdown",
   "id": "1bca3f8ade69ea75",
   "metadata": {},
   "source": [
    "# NumPy Data Types\n",
    "\n",
    "### Data Types in Python\n",
    "\n",
    "- `str`, `int`, `float`, `complex`, `bool` etc\n",
    "- `type()` function to know the data type of any object.\n",
    "\n",
    "## NumPy Data Types\n",
    "\n",
    "- `i` - integer\n",
    "- `b` - boolean\n",
    "- `u` - unsigned integer\n",
    "- `f` - float\n",
    "- `c` - complex float\n",
    "- `m` - timedelta\n",
    "- `M` - datetime\n",
    "- `O` - object\n",
    "- `S` - string\n",
    "- `U` - unicode string\n",
    "- `V` - fixed chunk of memory for other type ( void )\n",
    "\n",
    "> `dtype` attribute is used to check the data type of an array's elements."
   ]
  },
  {
   "cell_type": "code",
   "execution_count": 28,
   "id": "b773f5f5b09a4e3e",
   "metadata": {
    "ExecuteTime": {
     "end_time": "2024-07-07T01:10:10.253167Z",
     "start_time": "2024-07-07T01:10:10.246055Z"
    }
   },
   "outputs": [
    {
     "name": "stdout",
     "output_type": "stream",
     "text": [
      "int64\n",
      "<U21\n",
      "<class 'numpy.str_'>\n",
      "11\n"
     ]
    }
   ],
   "source": [
    "a = np.array([1, 2, 3, 4])\n",
    "b = np.array([\"alok\", \"shandilya\", 1])  # here, 1 is converted to string\n",
    "print(a.dtype)\n",
    "print(b.dtype)\n",
    "print(type(b[2]))\n",
    "print(b[2] + \"1\")"
   ]
  },
  {
   "cell_type": "markdown",
   "id": "2ac163cfb53da48f",
   "metadata": {},
   "source": [
    "### Creating Arrays with a Defined Data Type\n",
    "\n",
    "- optional `dtype` argument"
   ]
  },
  {
   "cell_type": "code",
   "execution_count": 30,
   "id": "422ab8a356285bc4",
   "metadata": {
    "ExecuteTime": {
     "end_time": "2024-07-07T01:11:13.582900Z",
     "start_time": "2024-07-07T01:11:13.577068Z"
    }
   },
   "outputs": [
    {
     "name": "stdout",
     "output_type": "stream",
     "text": [
      "[b'1' b'2' b'3' b'4']\n",
      "|S1\n"
     ]
    }
   ],
   "source": [
    "arr = np.array([1, 2, 3, 4], dtype='S')\n",
    "print(arr)\n",
    "print(arr.dtype)"
   ]
  },
  {
   "cell_type": "markdown",
   "id": "30cc031344c9b759",
   "metadata": {},
   "source": [
    "- for `i`, `u`, `f`, `S` and `U` we can define size as well.\n",
    "- `astype()` method to convert data type of an existing array."
   ]
  },
  {
   "cell_type": "code",
   "execution_count": 50,
   "id": "35d294ed026f9768",
   "metadata": {
    "ExecuteTime": {
     "end_time": "2024-07-07T01:22:14.076619Z",
     "start_time": "2024-07-07T01:22:14.050934Z"
    }
   },
   "outputs": [
    {
     "name": "stdout",
     "output_type": "stream",
     "text": [
      "[1 2 3 4] <class 'numpy.ndarray'>\n",
      "int64\n",
      "[1 2 3 4] <class 'numpy.ndarray'>\n",
      "int32\n",
      "[1. 2. 3.]\n",
      "[1 2 3]\n",
      "int32\n",
      "[1 2 3]\n",
      "int64\n"
     ]
    }
   ],
   "source": [
    "a = np.array([1, 2, 3, 4])\n",
    "b = np.array([1, 2, 3, 4], dtype='i4')  # 4 bytes integer (32 bits)\n",
    "print(a, type(a))\n",
    "print(a.dtype)\n",
    "print(b, type(b))\n",
    "print(b.dtype)\n",
    "\n",
    "arr = np.array([1, 2, 3], dtype=\"f\")\n",
    "print(arr)\n",
    "\n",
    "arr = np.array([1.1, 2.1, 3.9])\n",
    "newarr = arr.astype(\"i\")    # astype(\"i\") converts to 32-bit integer\n",
    "print(newarr)\n",
    "print(newarr.dtype)\n",
    "\n",
    "newarr = arr.astype(\"int64\")\n",
    "print(newarr)\n",
    "print(newarr.dtype)"
   ]
  },
  {
   "cell_type": "code",
   "execution_count": 43,
   "id": "4f8d0da195a04e9e",
   "metadata": {
    "ExecuteTime": {
     "end_time": "2024-07-07T01:17:17.635131Z",
     "start_time": "2024-07-07T01:17:17.605089Z"
    }
   },
   "outputs": [
    {
     "ename": "ValueError",
     "evalue": "invalid literal for int() with base 10: 'alok'",
     "output_type": "error",
     "traceback": [
      "\u001b[0;31m---------------------------------------------------------------------------\u001b[0m",
      "\u001b[0;31mValueError\u001b[0m                                Traceback (most recent call last)",
      "Cell \u001b[0;32mIn[43], line 2\u001b[0m\n\u001b[1;32m      1\u001b[0m \u001b[38;5;66;03m# will raise ValueError as string cannot be converted to int\u001b[39;00m\n\u001b[0;32m----> 2\u001b[0m arr \u001b[38;5;241m=\u001b[39m \u001b[43mnp\u001b[49m\u001b[38;5;241;43m.\u001b[39;49m\u001b[43marray\u001b[49m\u001b[43m(\u001b[49m\u001b[43m[\u001b[49m\u001b[38;5;124;43m\"\u001b[39;49m\u001b[38;5;124;43malok\u001b[39;49m\u001b[38;5;124;43m\"\u001b[39;49m\u001b[43m,\u001b[49m\u001b[43m \u001b[49m\u001b[38;5;124;43m\"\u001b[39;49m\u001b[38;5;124;43mshandilya\u001b[39;49m\u001b[38;5;124;43m\"\u001b[39;49m\u001b[43m,\u001b[49m\u001b[43m \u001b[49m\u001b[38;5;241;43m7\u001b[39;49m\u001b[43m]\u001b[49m\u001b[43m,\u001b[49m\u001b[43m \u001b[49m\u001b[43mdtype\u001b[49m\u001b[38;5;241;43m=\u001b[39;49m\u001b[38;5;124;43m\"\u001b[39;49m\u001b[38;5;124;43mi\u001b[39;49m\u001b[38;5;124;43m\"\u001b[39;49m\u001b[43m)\u001b[49m\n",
      "\u001b[0;31mValueError\u001b[0m: invalid literal for int() with base 10: 'alok'"
     ]
    }
   ],
   "source": [
    "# will raise ValueError as string cannot be converted to int\n",
    "arr = np.array([\"alok\", \"shandilya\", 7], dtype=\"i\")"
   ]
  },
  {
   "cell_type": "code",
   "execution_count": 52,
   "id": "dc2788beb7e2347",
   "metadata": {
    "ExecuteTime": {
     "end_time": "2024-07-07T01:23:14.595941Z",
     "start_time": "2024-07-07T01:23:14.590408Z"
    }
   },
   "outputs": [
    {
     "name": "stdout",
     "output_type": "stream",
     "text": [
      "[ True False  True  True]\n",
      "bool\n"
     ]
    }
   ],
   "source": [
    "arr = np.array([1, 0, 3, 7.7])\n",
    "newarr = arr.astype(bool)\n",
    "\n",
    "print(newarr)\n",
    "print(newarr.dtype)"
   ]
  },
  {
   "cell_type": "markdown",
   "id": "9ee981400cb5ba96",
   "metadata": {},
   "source": [
    "# NumPy array `Copy` vs `View`\n",
    "\n",
    "- `copy()` when need an independent array.\n",
    "    - creates a deep copy\n",
    "- `view()` when need a new array that shares data with the original array for memory efficiency.\n",
    "    - creates a shallow copy"
   ]
  },
  {
   "cell_type": "code",
   "execution_count": 2,
   "id": "e168cd2a3d1057a8",
   "metadata": {
    "ExecuteTime": {
     "end_time": "2024-07-07T01:48:31.807089Z",
     "start_time": "2024-07-07T01:48:31.801574Z"
    }
   },
   "outputs": [
    {
     "name": "stdout",
     "output_type": "stream",
     "text": [
      "[42  2  3  4  5]\n",
      "[1 2 3 4 5]\n"
     ]
    }
   ],
   "source": [
    "arr = np.array([1, 2, 3, 4, 5])\n",
    "x = arr.copy()\n",
    "arr[0] = 42\n",
    "\n",
    "print(arr)\n",
    "print(x)"
   ]
  },
  {
   "cell_type": "code",
   "execution_count": 3,
   "id": "6c19c9e3160a504e",
   "metadata": {
    "ExecuteTime": {
     "end_time": "2024-07-07T01:49:18.915557Z",
     "start_time": "2024-07-07T01:49:18.910100Z"
    }
   },
   "outputs": [
    {
     "name": "stdout",
     "output_type": "stream",
     "text": [
      "[42  2  3  4  5]\n",
      "[42  2  3  4  5]\n"
     ]
    }
   ],
   "source": [
    "arr = np.array([1, 2, 3, 4, 5])\n",
    "x = arr.view()\n",
    "arr[0] = 42\n",
    "\n",
    "print(arr)\n",
    "print(x)"
   ]
  },
  {
   "cell_type": "markdown",
   "id": "d98db5af39232c56",
   "metadata": {},
   "source": [
    "`base` attribute in NumPy is used to check if an array is a `view` of another array. If an array is a `view`, the `base` attribute points to the original array. If the array owns its own data (i.e., it is not a `view` but a `copy`), the `base` attribute is `None`"
   ]
  },
  {
   "cell_type": "code",
   "execution_count": 2,
   "id": "f7353948dd4180b4",
   "metadata": {
    "ExecuteTime": {
     "end_time": "2024-07-07T01:50:32.958950Z",
     "start_time": "2024-07-07T01:50:32.952889Z"
    }
   },
   "outputs": [
    {
     "name": "stdout",
     "output_type": "stream",
     "text": [
      "None\n",
      "[1 2 3 4 5]\n"
     ]
    }
   ],
   "source": [
    "arr = np.array([1, 2, 3, 4, 5])\n",
    "x = arr.copy()\n",
    "y = arr.view()\n",
    "\n",
    "print(x.base)\n",
    "print(y.base)"
   ]
  },
  {
   "cell_type": "markdown",
   "id": "ac503dc58b2789",
   "metadata": {},
   "source": [
    "# NumPy array shape\n",
    "\n",
    "- `shape` attribute returns a tuple with each index having the number of corresponding elements."
   ]
  },
  {
   "cell_type": "code",
   "execution_count": 8,
   "id": "564cb366",
   "metadata": {},
   "outputs": [
    {
     "name": "stdout",
     "output_type": "stream",
     "text": [
      "(2, 4)\n",
      "<class 'tuple'>\n",
      "[[[[[1 2 3 4]]]]]\n",
      "(1, 1, 1, 1, 4)\n"
     ]
    }
   ],
   "source": [
    "arr = np.array([[1, 2, 3, 4], [5, 6, 7, 8]])\n",
    "print(arr.shape)\n",
    "print(type(arr.shape))\n",
    "\n",
    "arr = np.array([1, 2, 3, 4], ndmin=5)\n",
    "print(arr)\n",
    "print(arr.shape)  # (1, 1, 1, 1, 4)\n",
    "# means 1 element in 1 dimension, 1 element in 2nd dimension, 1 element in 3rd dimension, 1 element in 4th dimension and 4 elements in 5th dimension"
   ]
  },
  {
   "cell_type": "markdown",
   "id": "d6f7ab56",
   "metadata": {},
   "source": [
    "# Numpy Array Reshaping\n",
    "\n",
    "- `reshape()` method to change the shape of an array."
   ]
  },
  {
   "cell_type": "code",
   "execution_count": 10,
   "id": "2c958c80",
   "metadata": {},
   "outputs": [
    {
     "name": "stdout",
     "output_type": "stream",
     "text": [
      "[[ 1  2  3]\n",
      " [ 4  5  6]\n",
      " [ 7  8  9]\n",
      " [10 11 12]]\n",
      "\n",
      "[[[ 1  2]\n",
      "  [ 3  4]\n",
      "  [ 5  6]]\n",
      "\n",
      " [[ 7  8]\n",
      "  [ 9 10]\n",
      "  [11 12]]]\n"
     ]
    }
   ],
   "source": [
    "arr = np.array([1, 2, 3, 4, 5, 6, 7, 8, 9, 10, 11, 12])\n",
    "newarr = arr.reshape(4, 3)\n",
    "print(newarr)\n",
    "\n",
    "print()\n",
    "\n",
    "arr = np.array([1, 2, 3, 4, 5, 6, 7, 8, 9, 10, 11, 12])\n",
    "newarr = arr.reshape(2, 3, 2)\n",
    "print(newarr)"
   ]
  },
  {
   "cell_type": "markdown",
   "id": "950d94b5",
   "metadata": {},
   "source": [
    "- we can reshape into any shape as long as the total number of elements remains the same."
   ]
  },
  {
   "cell_type": "code",
   "execution_count": 15,
   "id": "aa9070e4",
   "metadata": {},
   "outputs": [
    {
     "ename": "ValueError",
     "evalue": "cannot reshape array of size 8 into shape (3,3)",
     "output_type": "error",
     "traceback": [
      "\u001b[0;31m---------------------------------------------------------------------------\u001b[0m",
      "\u001b[0;31mValueError\u001b[0m                                Traceback (most recent call last)",
      "Cell \u001b[0;32mIn[15], line 2\u001b[0m\n\u001b[1;32m      1\u001b[0m arr \u001b[38;5;241m=\u001b[39m np\u001b[38;5;241m.\u001b[39marray([\u001b[38;5;241m1\u001b[39m, \u001b[38;5;241m2\u001b[39m, \u001b[38;5;241m3\u001b[39m, \u001b[38;5;241m4\u001b[39m, \u001b[38;5;241m5\u001b[39m, \u001b[38;5;241m6\u001b[39m, \u001b[38;5;241m7\u001b[39m, \u001b[38;5;241m8\u001b[39m])\n\u001b[0;32m----> 2\u001b[0m newarr \u001b[38;5;241m=\u001b[39m \u001b[43marr\u001b[49m\u001b[38;5;241;43m.\u001b[39;49m\u001b[43mreshape\u001b[49m\u001b[43m(\u001b[49m\u001b[38;5;241;43m3\u001b[39;49m\u001b[43m,\u001b[49m\u001b[43m \u001b[49m\u001b[38;5;241;43m3\u001b[39;49m\u001b[43m)\u001b[49m\n\u001b[1;32m      3\u001b[0m \u001b[38;5;28mprint\u001b[39m(newarr)\n",
      "\u001b[0;31mValueError\u001b[0m: cannot reshape array of size 8 into shape (3,3)"
     ]
    }
   ],
   "source": [
    "arr = np.array([1, 2, 3, 4, 5, 6, 7, 8])\n",
    "newarr = arr.reshape(3, 3)\n",
    "print(newarr)"
   ]
  },
  {
   "cell_type": "markdown",
   "id": "af981050",
   "metadata": {},
   "source": [
    "The `reshape()` function in NumPy returns a **view** (shallow copy) of the original array whenever possible. This means that the data is not actually copied, and both the original and the reshaped arrays share the same underlying data. However, if it is not possible to return a view, `reshape()` will return a new array (deep copy).\n",
    "\n",
    "- the `reshape()` method returns the original array, so it's a `view`\n",
    "- > **Note**: we can not pass $-1$ to more than one dimension."
   ]
  },
  {
   "cell_type": "code",
   "execution_count": 20,
   "id": "7a800560",
   "metadata": {},
   "outputs": [
    {
     "name": "stdout",
     "output_type": "stream",
     "text": [
      "[1 2 3 4 5 6 7 8]\n"
     ]
    }
   ],
   "source": [
    "arr = np.array([1, 2, 3, 4, 5, 6, 7, 8])\n",
    "print(arr.reshape(2, 4).base)"
   ]
  },
  {
   "cell_type": "code",
   "execution_count": 27,
   "id": "e52540aa",
   "metadata": {},
   "outputs": [
    {
     "name": "stdout",
     "output_type": "stream",
     "text": [
      "[[2 3]\n",
      " [4 5]]\n",
      "[1 2 3 4 5 6]\n"
     ]
    }
   ],
   "source": [
    "arr = np.array([1, 2, 3, 4, 5, 6])\n",
    "newarr = arr[1:5]\n",
    "test = newarr.reshape(2, 2)\n",
    "print(test)\n",
    "print(test.base)"
   ]
  },
  {
   "cell_type": "markdown",
   "id": "3221a70c",
   "metadata": {},
   "source": [
    "### Flattening the arrays\n",
    "\n",
    "- `reshape(-1)` to flatten the array (convert it into a 1D array).\n",
    "- > **Note**: there are a lot of ways to flatten an array, but `reshape(-1)` is the most common and easiest way to do it. `flatten()`, `ravel()` are other methods. Also, for rearranging the elements `rot90()`, `flip()`, `fliplr()`, `flipud()` etc are used."
   ]
  },
  {
   "cell_type": "code",
   "execution_count": 28,
   "id": "722a986a",
   "metadata": {},
   "outputs": [
    {
     "name": "stdout",
     "output_type": "stream",
     "text": [
      "[1 2 3 4 5 6]\n"
     ]
    }
   ],
   "source": [
    "arr = np.array([[1, 2, 3], [4, 5, 6]])\n",
    "print(arr.reshape(-1))"
   ]
  },
  {
   "cell_type": "code",
   "execution_count": null,
   "id": "f5cfbaa6",
   "metadata": {},
   "outputs": [],
   "source": []
  }
 ],
 "metadata": {
  "kernelspec": {
   "display_name": "Python 3 (ipykernel)",
   "language": "python",
   "name": "python3"
  },
  "language_info": {
   "codemirror_mode": {
    "name": "ipython",
    "version": 3
   },
   "file_extension": ".py",
   "mimetype": "text/x-python",
   "name": "python",
   "nbconvert_exporter": "python",
   "pygments_lexer": "ipython3",
   "version": "3.12.4"
  }
 },
 "nbformat": 4,
 "nbformat_minor": 5
}
